{
 "cells": [
  {
   "cell_type": "code",
   "execution_count": 1,
   "metadata": {
    "colab": {
     "base_uri": "https://localhost:8080/",
     "height": 435
    },
    "colab_type": "code",
    "executionInfo": {
     "elapsed": 274,
     "status": "ok",
     "timestamp": 1581377023640,
     "user": {
      "displayName": "Francis LIU",
      "photoUrl": "",
      "userId": "02616809759656825643"
     },
     "user_tz": -60
    },
    "id": "tegcHRppejiJ",
    "outputId": "f0abe5a1-8d7a-471e-ff86-f4c94f73271f"
   },
   "outputs": [
    {
     "name": "stdout",
     "output_type": "stream",
     "text": [
      "Requirement already satisfied: transformers in /usr/local/lib/python3.6/dist-packages (2.4.1)\n",
      "Requirement already satisfied: numpy in /usr/local/lib/python3.6/dist-packages (from transformers) (1.17.5)\n",
      "Requirement already satisfied: tqdm>=4.27 in /usr/local/lib/python3.6/dist-packages (from transformers) (4.28.1)\n",
      "Requirement already satisfied: regex!=2019.12.17 in /usr/local/lib/python3.6/dist-packages (from transformers) (2019.12.20)\n",
      "Requirement already satisfied: filelock in /usr/local/lib/python3.6/dist-packages (from transformers) (3.0.12)\n",
      "Requirement already satisfied: sentencepiece in /usr/local/lib/python3.6/dist-packages (from transformers) (0.1.85)\n",
      "Requirement already satisfied: requests in /usr/local/lib/python3.6/dist-packages (from transformers) (2.21.0)\n",
      "Requirement already satisfied: boto3 in /usr/local/lib/python3.6/dist-packages (from transformers) (1.11.10)\n",
      "Requirement already satisfied: sacremoses in /usr/local/lib/python3.6/dist-packages (from transformers) (0.0.38)\n",
      "Requirement already satisfied: tokenizers==0.0.11 in /usr/local/lib/python3.6/dist-packages (from transformers) (0.0.11)\n",
      "Requirement already satisfied: certifi>=2017.4.17 in /usr/local/lib/python3.6/dist-packages (from requests->transformers) (2019.11.28)\n",
      "Requirement already satisfied: idna<2.9,>=2.5 in /usr/local/lib/python3.6/dist-packages (from requests->transformers) (2.8)\n",
      "Requirement already satisfied: chardet<3.1.0,>=3.0.2 in /usr/local/lib/python3.6/dist-packages (from requests->transformers) (3.0.4)\n",
      "Requirement already satisfied: urllib3<1.25,>=1.21.1 in /usr/local/lib/python3.6/dist-packages (from requests->transformers) (1.24.3)\n",
      "Requirement already satisfied: jmespath<1.0.0,>=0.7.1 in /usr/local/lib/python3.6/dist-packages (from boto3->transformers) (0.9.4)\n",
      "Requirement already satisfied: s3transfer<0.4.0,>=0.3.0 in /usr/local/lib/python3.6/dist-packages (from boto3->transformers) (0.3.2)\n",
      "Requirement already satisfied: botocore<1.15.0,>=1.14.10 in /usr/local/lib/python3.6/dist-packages (from boto3->transformers) (1.14.10)\n",
      "Requirement already satisfied: joblib in /usr/local/lib/python3.6/dist-packages (from sacremoses->transformers) (0.14.1)\n",
      "Requirement already satisfied: click in /usr/local/lib/python3.6/dist-packages (from sacremoses->transformers) (7.0)\n",
      "Requirement already satisfied: six in /usr/local/lib/python3.6/dist-packages (from sacremoses->transformers) (1.12.0)\n",
      "Requirement already satisfied: python-dateutil<3.0.0,>=2.1 in /usr/local/lib/python3.6/dist-packages (from botocore<1.15.0,>=1.14.10->boto3->transformers) (2.6.1)\n",
      "Requirement already satisfied: docutils<0.16,>=0.10 in /usr/local/lib/python3.6/dist-packages (from botocore<1.15.0,>=1.14.10->boto3->transformers) (0.15.2)\n",
      "Requirement already satisfied: PyPDF2 in /usr/local/lib/python3.6/dist-packages (1.26.0)\n"
     ]
    }
   ],
   "source": [
    "%pip install transformers\n",
    "%pip install PyPDF2"
   ]
  },
  {
   "cell_type": "code",
   "execution_count": 0,
   "metadata": {
    "colab": {},
    "colab_type": "code",
    "id": "Pwvl6_JbgSGb"
   },
   "outputs": [],
   "source": [
    "%rm -rf BERT_financialReportAnalysis/"
   ]
  },
  {
   "cell_type": "code",
   "execution_count": 4,
   "metadata": {
    "colab": {
     "base_uri": "https://localhost:8080/",
     "height": 121
    },
    "colab_type": "code",
    "executionInfo": {
     "elapsed": 2475,
     "status": "ok",
     "timestamp": 1581370707039,
     "user": {
      "displayName": "Francis LIU",
      "photoUrl": "",
      "userId": "02616809759656825643"
     },
     "user_tz": -60
    },
    "id": "m4oVP7dubMft",
    "outputId": "f0f2e307-5574-43de-e5a0-9b9636d8ac4d"
   },
   "outputs": [
    {
     "name": "stdout",
     "output_type": "stream",
     "text": [
      "Cloning into 'BERT_financialReportAnalysis'...\n",
      "remote: Enumerating objects: 97, done.\u001b[K\n",
      "remote: Counting objects: 100% (97/97), done.\u001b[K\n",
      "remote: Compressing objects: 100% (72/72), done.\u001b[K\n",
      "remote: Total 97 (delta 60), reused 62 (delta 25), pack-reused 0\u001b[K\n",
      "Unpacking objects: 100% (97/97), done.\n"
     ]
    }
   ],
   "source": [
    "!git clone https://github.com/francisliu2/BERT_financialReportAnalysis.git"
   ]
  },
  {
   "cell_type": "code",
   "execution_count": 5,
   "metadata": {
    "colab": {
     "base_uri": "https://localhost:8080/",
     "height": 35
    },
    "colab_type": "code",
    "executionInfo": {
     "elapsed": 322,
     "status": "ok",
     "timestamp": 1581370707795,
     "user": {
      "displayName": "Francis LIU",
      "photoUrl": "",
      "userId": "02616809759656825643"
     },
     "user_tz": -60
    },
    "id": "OR9aCpCIePWA",
    "outputId": "0bc63d39-c625-4fc1-8dc1-6d6f7fc1cf19"
   },
   "outputs": [
    {
     "name": "stdout",
     "output_type": "stream",
     "text": [
      "/content/BERT_financialReportAnalysis\n"
     ]
    }
   ],
   "source": [
    "%cd BERT_financialReportAnalysis/"
   ]
  },
  {
   "cell_type": "code",
   "execution_count": 6,
   "metadata": {
    "colab": {
     "base_uri": "https://localhost:8080/",
     "height": 133
    },
    "colab_type": "code",
    "executionInfo": {
     "elapsed": 4562,
     "status": "ok",
     "timestamp": 1581370712981,
     "user": {
      "displayName": "Francis LIU",
      "photoUrl": "",
      "userId": "02616809759656825643"
     },
     "user_tz": -60
    },
    "id": "r3pkXl65eWWI",
    "outputId": "1d1ea22c-b945-4eeb-90e6-a028b442dc16"
   },
   "outputs": [
    {
     "data": {
      "text/html": [
       "<p style=\"color: red;\">\n",
       "The default version of TensorFlow in Colab will soon switch to TensorFlow 2.x.<br>\n",
       "We recommend you <a href=\"https://www.tensorflow.org/guide/migrate\" target=\"_blank\">upgrade</a> now \n",
       "or ensure your notebook will continue to use TensorFlow 1.x via the <code>%tensorflow_version 1.x</code> magic:\n",
       "<a href=\"https://colab.research.google.com/notebooks/tensorflow_version.ipynb\" target=\"_blank\">more info</a>.</p>\n"
      ],
      "text/plain": [
       "<IPython.core.display.HTML object>"
      ]
     },
     "metadata": {
      "tags": []
     },
     "output_type": "display_data"
    },
    {
     "name": "stdout",
     "output_type": "stream",
     "text": [
      "[nltk_data] Downloading package punkt to /root/nltk_data...\n",
      "[nltk_data]   Package punkt is already up-to-date!\n",
      "Max number of tokens in one sentence: 512\n"
     ]
    }
   ],
   "source": [
    "from companytoVector_BERT import *\n",
    "from corporate_profile_extrator import *\n",
    "\n",
    "from google.colab import files\n",
    "import os\n",
    "import glob\n",
    "\n",
    "import pandas as pd\n",
    "\n",
    "import string  \n",
    "punc = string.punctuation \n",
    "\n",
    "from nltk.corpus import stopwords\n",
    "import nltk\n",
    "nltk.download('stopwords')\n",
    "stopWords = list(stopwords.words('english'))\n",
    "os.mkdir('outputs')"
   ]
  },
  {
   "cell_type": "code",
   "execution_count": 0,
   "metadata": {
    "colab": {},
    "colab_type": "code",
    "id": "H_QVqMIdfP-n"
   },
   "outputs": [],
   "source": [
    "CP = glob.glob(\"./data/*.pdf\")"
   ]
  },
  {
   "cell_type": "code",
   "execution_count": 0,
   "metadata": {
    "colab": {},
    "colab_type": "code",
    "id": "HCvbvSA1gFzJ"
   },
   "outputs": [],
   "source": [
    "model = load_model()"
   ]
  },
  {
   "cell_type": "code",
   "execution_count": 0,
   "metadata": {
    "colab": {},
    "colab_type": "code",
    "id": "BRg0ZF8liz_5"
   },
   "outputs": [],
   "source": [
    "success = []\n",
    "failed = []\n",
    "result_temp = [] # for debugging\n",
    "for i in range(len(CP)):\n",
    "  name = CP[i].replace('.pdf', '') \n",
    "  name = name.replace('./data/', '')\n",
    "  corporate_profile_text = get_corporate_profile(CP[i])\n",
    "  corporate_profile_tokens = text_tokening(corporate_profile_text, verbose=1)\n",
    "  corporate_profile_ids = corporate_profile_tokens[0]\n",
    "  if corporate_profile_ids == None:\n",
    "    failed.append({name, 'sentence is too long'})\n",
    "  else:\n",
    "    success.append(name)\n",
    "    result = company2vector(corporate_profile_ids, model, average_over_sent=False)\n",
    "    result_temp.append(result)\n",
    "  \n",
    "    pd_temp = vector_of_each_whole_token(corporate_profile_tokens, result)\n",
    "    # Remove punctuation\n",
    "    pd_temp['punc'] = pd_temp.token.apply(lambda x: x in punc)\n",
    "\n",
    "    # Remove stopwords\n",
    "    pd_temp['stopwords'] = pd_temp.token.apply(lambda x: x in stopWords)\n",
    "\n",
    "    # Save\n",
    "    pd_temp.to_pickle('./outputs/'+name+'.pkl')\n",
    "    # np.save('./outputs/'+name, result)"
   ]
  },
  {
   "cell_type": "code",
   "execution_count": 0,
   "metadata": {
    "colab": {},
    "colab_type": "code",
    "id": "zHUR22x_IFy8"
   },
   "outputs": [],
   "source": [
    "test = pd.read_pickle('./outputs/'+name+'.pkl')"
   ]
  },
  {
   "cell_type": "code",
   "execution_count": 35,
   "metadata": {
    "colab": {
     "base_uri": "https://localhost:8080/",
     "height": 856
    },
    "colab_type": "code",
    "executionInfo": {
     "elapsed": 608,
     "status": "ok",
     "timestamp": 1581371767630,
     "user": {
      "displayName": "Francis LIU",
      "photoUrl": "",
      "userId": "02616809759656825643"
     },
     "user_tz": -60
    },
    "id": "kK_bPThhAhvt",
    "outputId": "921222d6-490d-47e8-fd9f-d5804489c128"
   },
   "outputs": [
    {
     "data": {
      "text/html": [
       "<div>\n",
       "<style scoped>\n",
       "    .dataframe tbody tr th:only-of-type {\n",
       "        vertical-align: middle;\n",
       "    }\n",
       "\n",
       "    .dataframe tbody tr th {\n",
       "        vertical-align: top;\n",
       "    }\n",
       "\n",
       "    .dataframe thead th {\n",
       "        text-align: right;\n",
       "    }\n",
       "</style>\n",
       "<table border=\"1\" class=\"dataframe\">\n",
       "  <thead>\n",
       "    <tr style=\"text-align: right;\">\n",
       "      <th></th>\n",
       "      <th>sentence_number</th>\n",
       "      <th>token_number</th>\n",
       "      <th>token</th>\n",
       "      <th>vector</th>\n",
       "      <th>punc</th>\n",
       "      <th>stopwords</th>\n",
       "    </tr>\n",
       "  </thead>\n",
       "  <tbody>\n",
       "    <tr>\n",
       "      <th>0</th>\n",
       "      <td>0</td>\n",
       "      <td>1</td>\n",
       "      <td>sustainability</td>\n",
       "      <td>[0.065969, 0.076606676, 0.62781805, 0.01035083...</td>\n",
       "      <td>False</td>\n",
       "      <td>False</td>\n",
       "    </tr>\n",
       "    <tr>\n",
       "      <th>1</th>\n",
       "      <td>0</td>\n",
       "      <td>2</td>\n",
       "      <td>report</td>\n",
       "      <td>[0.40392673, 0.4611601, 0.9255303, -0.18665083...</td>\n",
       "      <td>False</td>\n",
       "      <td>False</td>\n",
       "    </tr>\n",
       "    <tr>\n",
       "      <th>2</th>\n",
       "      <td>0</td>\n",
       "      <td>3</td>\n",
       "      <td>for</td>\n",
       "      <td>[-1.0512247, 0.20628639, 0.2880623, 0.169154, ...</td>\n",
       "      <td>False</td>\n",
       "      <td>True</td>\n",
       "    </tr>\n",
       "    <tr>\n",
       "      <th>3</th>\n",
       "      <td>0</td>\n",
       "      <td>4</td>\n",
       "      <td>the</td>\n",
       "      <td>[-1.0506794, -0.5677045, -0.20221244, 0.454342...</td>\n",
       "      <td>False</td>\n",
       "      <td>True</td>\n",
       "    </tr>\n",
       "    <tr>\n",
       "      <th>4</th>\n",
       "      <td>0</td>\n",
       "      <td>5</td>\n",
       "      <td>financial</td>\n",
       "      <td>[-0.5520763, -0.4105609, 0.14595497, 0.0835926...</td>\n",
       "      <td>False</td>\n",
       "      <td>False</td>\n",
       "    </tr>\n",
       "    <tr>\n",
       "      <th>...</th>\n",
       "      <td>...</td>\n",
       "      <td>...</td>\n",
       "      <td>...</td>\n",
       "      <td>...</td>\n",
       "      <td>...</td>\n",
       "      <td>...</td>\n",
       "    </tr>\n",
       "    <tr>\n",
       "      <th>355</th>\n",
       "      <td>9</td>\n",
       "      <td>19</td>\n",
       "      <td>on</td>\n",
       "      <td>[-1.5194913, -0.03699847, 0.01903405, 0.465225...</td>\n",
       "      <td>False</td>\n",
       "      <td>True</td>\n",
       "    </tr>\n",
       "    <tr>\n",
       "      <th>356</th>\n",
       "      <td>9</td>\n",
       "      <td>20</td>\n",
       "      <td>22</td>\n",
       "      <td>[-0.6731026, 0.011136717, 0.4026469, -0.203729...</td>\n",
       "      <td>False</td>\n",
       "      <td>False</td>\n",
       "    </tr>\n",
       "    <tr>\n",
       "      <th>357</th>\n",
       "      <td>9</td>\n",
       "      <td>21</td>\n",
       "      <td>september</td>\n",
       "      <td>[0.00090364635, 0.09324206, -0.404369, 0.11505...</td>\n",
       "      <td>False</td>\n",
       "      <td>False</td>\n",
       "    </tr>\n",
       "    <tr>\n",
       "      <th>358</th>\n",
       "      <td>9</td>\n",
       "      <td>22</td>\n",
       "      <td>2015</td>\n",
       "      <td>[-1.2094734, 0.5952442, 0.9333452, 0.3811243, ...</td>\n",
       "      <td>False</td>\n",
       "      <td>False</td>\n",
       "    </tr>\n",
       "    <tr>\n",
       "      <th>359</th>\n",
       "      <td>9</td>\n",
       "      <td>23</td>\n",
       "      <td>.</td>\n",
       "      <td>[0.26897022, 0.123135395, 0.014487067, 0.17385...</td>\n",
       "      <td>True</td>\n",
       "      <td>False</td>\n",
       "    </tr>\n",
       "  </tbody>\n",
       "</table>\n",
       "<p>360 rows × 6 columns</p>\n",
       "</div>"
      ],
      "text/plain": [
       "     sentence_number  token_number  ...   punc stopwords\n",
       "0                  0             1  ...  False     False\n",
       "1                  0             2  ...  False     False\n",
       "2                  0             3  ...  False      True\n",
       "3                  0             4  ...  False      True\n",
       "4                  0             5  ...  False     False\n",
       "..               ...           ...  ...    ...       ...\n",
       "355                9            19  ...  False      True\n",
       "356                9            20  ...  False     False\n",
       "357                9            21  ...  False     False\n",
       "358                9            22  ...  False     False\n",
       "359                9            23  ...   True     False\n",
       "\n",
       "[360 rows x 6 columns]"
      ]
     },
     "execution_count": 35,
     "metadata": {
      "tags": []
     },
     "output_type": "execute_result"
    }
   ],
   "source": [
    "test"
   ]
  },
  {
   "cell_type": "code",
   "execution_count": 0,
   "metadata": {
    "colab": {},
    "colab_type": "code",
    "id": "kXdWzcGqEkbC"
   },
   "outputs": [],
   "source": [
    "# Remove punctuation\n",
    "test['punc'] = test.token.apply(lambda x: x in punc)"
   ]
  },
  {
   "cell_type": "code",
   "execution_count": 0,
   "metadata": {
    "colab": {},
    "colab_type": "code",
    "id": "mQZJUGEQF5CX"
   },
   "outputs": [],
   "source": [
    "# Remove stopwords\n",
    "test['stopwords'] = test.token.apply(lambda x: x in stopWords)"
   ]
  },
  {
   "cell_type": "code",
   "execution_count": 14,
   "metadata": {
    "colab": {
     "base_uri": "https://localhost:8080/",
     "height": 35
    },
    "colab_type": "code",
    "executionInfo": {
     "elapsed": 608,
     "status": "ok",
     "timestamp": 1581370319944,
     "user": {
      "displayName": "Francis LIU",
      "photoUrl": "",
      "userId": "02616809759656825643"
     },
     "user_tz": -60
    },
    "id": "OM1s0J9-LmQ4",
    "outputId": "edf4f298-d7d6-4eb7-f258-ee65bd936ff1"
   },
   "outputs": [
    {
     "data": {
      "text/plain": [
       "(10, 512, 768)"
      ]
     },
     "execution_count": 14,
     "metadata": {
      "tags": []
     },
     "output_type": "execute_result"
    }
   ],
   "source": [
    "result.shape"
   ]
  },
  {
   "cell_type": "code",
   "execution_count": 0,
   "metadata": {
    "colab": {
     "base_uri": "https://localhost:8080/",
     "height": 35
    },
    "colab_type": "code",
    "executionInfo": {
     "elapsed": 531,
     "status": "ok",
     "timestamp": 1581338360640,
     "user": {
      "displayName": "Francis LIU",
      "photoUrl": "",
      "userId": "02616809759656825643"
     },
     "user_tz": -60
    },
    "id": "bh4n0csUoSCf",
    "outputId": "5f88d86b-8d89-4918-e574-d86aea389789"
   },
   "outputs": [
    {
     "data": {
      "text/plain": [
       "['Yongnam Annual Report 2010', 'China Star_Sustainability Report']"
      ]
     },
     "execution_count": 9,
     "metadata": {
      "tags": []
     },
     "output_type": "execute_result"
    }
   ],
   "source": [
    "success"
   ]
  },
  {
   "cell_type": "code",
   "execution_count": 36,
   "metadata": {
    "colab": {
     "base_uri": "https://localhost:8080/",
     "height": 69
    },
    "colab_type": "code",
    "executionInfo": {
     "elapsed": 8417,
     "status": "ok",
     "timestamp": 1581371789031,
     "user": {
      "displayName": "Francis LIU",
      "photoUrl": "",
      "userId": "02616809759656825643"
     },
     "user_tz": -60
    },
    "id": "mcljwMBfw4nt",
    "outputId": "8b978a1f-ffc7-4eda-fce8-35982a3932d1"
   },
   "outputs": [
    {
     "name": "stdout",
     "output_type": "stream",
     "text": [
      "updating: outputs/ (stored 0%)\n",
      "updating: outputs/Yongnam Annual Report 2010.pkl (deflated 9%)\n",
      "updating: outputs/China Star_Sustainability Report.pkl (deflated 9%)\n"
     ]
    }
   ],
   "source": [
    "!zip -r ./outputs.zip ./outputs\n",
    "!sleep 2\n",
    "files.download('outputs.zip')"
   ]
  },
  {
   "cell_type": "code",
   "execution_count": 0,
   "metadata": {
    "colab": {},
    "colab_type": "code",
    "id": "aDLqv2_5KnM0"
   },
   "outputs": [],
   "source": [
    "files.download('outputs.zip')"
   ]
  },
  {
   "cell_type": "code",
   "execution_count": 0,
   "metadata": {
    "colab": {
     "base_uri": "https://localhost:8080/",
     "height": 52
    },
    "colab_type": "code",
    "executionInfo": {
     "elapsed": 33288,
     "status": "ok",
     "timestamp": 1580846593227,
     "user": {
      "displayName": "Francis LIU",
      "photoUrl": "",
      "userId": "02616809759656825643"
     },
     "user_tz": -60
    },
    "id": "R7VW_02Vg1c8",
    "outputId": "cf8b11b9-d78b-4d9a-8e8c-aa95a1f935c4"
   },
   "outputs": [
    {
     "name": "stdout",
     "output_type": "stream",
     "text": [
      "CPU times: user 29.9 s, sys: 2.69 s, total: 32.6 s\n",
      "Wall time: 32.7 s\n"
     ]
    }
   ],
   "source": [
    "# Check time needed to run\n",
    "corporate_profile_text = get_corporate_profile(CP[0])\n",
    "%time result = company2vector(corporate_profile_text, model)"
   ]
  },
  {
   "cell_type": "code",
   "execution_count": 0,
   "metadata": {
    "colab": {},
    "colab_type": "code",
    "id": "DbYtgwZozRzU"
   },
   "outputs": [],
   "source": []
  }
 ],
 "metadata": {
  "colab": {
   "authorship_tag": "ABX9TyNYHzklg00jmc79+D5Jc4fy",
   "collapsed_sections": [],
   "name": "main.ipynb",
   "provenance": []
  },
  "kernelspec": {
   "display_name": "Python 3",
   "language": "python",
   "name": "python3"
  },
  "language_info": {
   "codemirror_mode": {
    "name": "ipython",
    "version": 3
   },
   "file_extension": ".py",
   "mimetype": "text/x-python",
   "name": "python",
   "nbconvert_exporter": "python",
   "pygments_lexer": "ipython3",
   "version": "3.7.4"
  }
 },
 "nbformat": 4,
 "nbformat_minor": 1
}
